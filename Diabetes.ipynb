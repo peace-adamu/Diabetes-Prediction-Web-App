{
 "cells": [
  {
   "cell_type": "code",
   "execution_count": 3,
   "metadata": {},
   "outputs": [],
   "source": [
    "import pandas as pd\n",
    "import numpy as np\n",
    "import matplotlib.pyplot as plt\n",
    "import seaborn as sns\n",
    "from sklearn.preprocessing import LabelEncoder\n",
    "from sklearn.preprocessing import StandardScaler\n",
    "from imblearn.over_sampling import RandomOverSampler\n",
    "from sklearn.model_selection import train_test_split\n",
    "from sklearn.linear_model import LogisticRegression\n",
    "from sklearn.neighbors import KNeighborsClassifier\n",
    "from sklearn.tree import DecisionTreeClassifier\n",
    "from sklearn.ensemble import RandomForestClassifier\n",
    "from sklearn import svm\n",
    "import pickle\n",
    "from sklearn.metrics import confusion_matrix, classification_report\n"
   ]
  },
  {
   "cell_type": "code",
   "execution_count": 4,
   "metadata": {},
   "outputs": [],
   "source": [
    "df = pd.read_csv('Dataset of Diabetes .csv')"
   ]
  },
  {
   "cell_type": "code",
   "execution_count": 5,
   "metadata": {},
   "outputs": [
    {
     "name": "stdout",
     "output_type": "stream",
     "text": [
      "ID           0\n",
      "No_Pation    0\n",
      "Gender       0\n",
      "AGE          0\n",
      "Urea         0\n",
      "Cr           0\n",
      "HbA1c        0\n",
      "Chol         0\n",
      "TG           0\n",
      "HDL          0\n",
      "LDL          0\n",
      "VLDL         0\n",
      "BMI          0\n",
      "CLASS        0\n",
      "dtype: int64\n"
     ]
    }
   ],
   "source": [
    "# Check for missing values\n",
    "print(df.isnull().sum())"
   ]
  },
  {
   "cell_type": "code",
   "execution_count": 6,
   "metadata": {},
   "outputs": [],
   "source": [
    "# Encode categorical variables\n",
    "encode = LabelEncoder()\n",
    "df['new_gender'] = encode.fit_transform(df['Gender'])\n",
    "df['new_class'] = encode.fit_transform(df['CLASS'])\n"
   ]
  },
  {
   "cell_type": "code",
   "execution_count": 7,
   "metadata": {},
   "outputs": [],
   "source": [
    "# Drop unnecessary columns\n",
    "df.drop(['Gender', 'CLASS', 'ID'], axis=1, inplace=True)"
   ]
  },
  {
   "cell_type": "code",
   "execution_count": 8,
   "metadata": {},
   "outputs": [],
   "source": [
    "# Normalize the data\n",
    "scaler = StandardScaler()\n",
    "x_scaled = scaler.fit_transform(df.drop(['new_class'], axis=1))\n"
   ]
  },
  {
   "cell_type": "code",
   "execution_count": 9,
   "metadata": {},
   "outputs": [],
   "source": [
    "# Split the data into features and target\n",
    "x = x_scaled\n",
    "y = df['new_class']"
   ]
  },
  {
   "cell_type": "code",
   "execution_count": 10,
   "metadata": {},
   "outputs": [
    {
     "data": {
      "text/plain": [
       "array([[-0.07474738, -0.40114429, -0.14478078, ..., -0.369958  ,\n",
       "        -1.12462205, -1.13968756],\n",
       "       [-0.06993954, -3.13001704, -0.21295413, ..., -0.34264878,\n",
       "        -1.32623876,  0.87034341],\n",
       "       [-0.06586919, -0.40114429, -0.14478078, ..., -0.369958  ,\n",
       "        -1.12462205, -1.13968756],\n",
       "       ...,\n",
       "       [-0.0541266 , -2.67520491,  0.67329948, ...,  1.70554268,\n",
       "        -0.43912523,  0.87034341],\n",
       "       [-0.07296316, -1.76558067,  0.23017268, ...,  3.31678663,\n",
       "         2.2020537 ,  0.87034341],\n",
       "       [-0.07294836,  0.05366783, -0.04252074, ..., -0.31533956,\n",
       "         0.68992836,  0.87034341]])"
      ]
     },
     "execution_count": 10,
     "metadata": {},
     "output_type": "execute_result"
    }
   ],
   "source": [
    "x"
   ]
  },
  {
   "cell_type": "code",
   "execution_count": 11,
   "metadata": {},
   "outputs": [],
   "source": [
    "# Oversample the minority class\n",
    "ros = RandomOverSampler(random_state=20)\n",
    "x_res, y_res = ros.fit_resample(x, y)\n",
    "\n"
   ]
  },
  {
   "cell_type": "code",
   "execution_count": 12,
   "metadata": {},
   "outputs": [],
   "source": [
    "# Split the data into training and testing sets\n",
    "x_train, x_test, y_train, y_test = train_test_split(x_res, y_res, test_size=0.30, random_state=50)"
   ]
  },
  {
   "cell_type": "code",
   "execution_count": 13,
   "metadata": {},
   "outputs": [
    {
     "data": {
      "text/plain": [
       "array([[-0.07148228, -0.40114429, -0.14478078, ..., -0.26072112,\n",
       "        -1.12462205,  0.87034341],\n",
       "       [-0.06993363, -1.76558067,  0.33243271, ..., -0.28803034,\n",
       "        -1.00365203,  0.87034341],\n",
       "       [-0.06993363, -1.76558067,  0.33243271, ..., -0.28803034,\n",
       "        -1.00365203,  0.87034341],\n",
       "       ...,\n",
       "       [-0.07405311, -0.40114429, -0.1106941 , ..., -0.34264878,\n",
       "        -2.13270561,  0.87034341],\n",
       "       [-0.06993363, -1.76558067,  0.33243271, ..., -0.28803034,\n",
       "        -1.00365203,  0.87034341],\n",
       "       [-0.06993363, -1.76558067,  0.33243271, ..., -0.28803034,\n",
       "        -1.00365203,  0.87034341]])"
      ]
     },
     "execution_count": 13,
     "metadata": {},
     "output_type": "execute_result"
    }
   ],
   "source": [
    "x_train"
   ]
  },
  {
   "cell_type": "code",
   "execution_count": 14,
   "metadata": {},
   "outputs": [
    {
     "name": "stdout",
     "output_type": "stream",
     "text": [
      "              precision    recall  f1-score   support\n",
      "\n",
      "           0       0.97      0.83      0.90       250\n",
      "           1       0.90      1.00      0.95       239\n",
      "           2       0.86      0.95      0.90       256\n",
      "           3       0.98      0.86      0.92       257\n",
      "           4       0.95      1.00      0.97       258\n",
      "\n",
      "    accuracy                           0.93      1260\n",
      "   macro avg       0.93      0.93      0.93      1260\n",
      "weighted avg       0.93      0.93      0.93      1260\n",
      "\n",
      "[[208  13  27   2   0]\n",
      " [  0 239   0   0   0]\n",
      " [  0  11 242   3   0]\n",
      " [  6   2  12 222  15]\n",
      " [  0   0   0   0 258]]\n"
     ]
    },
    {
     "name": "stderr",
     "output_type": "stream",
     "text": [
      "c:\\Users\\HP\\.conda\\envs\\myenv\\lib\\site-packages\\sklearn\\linear_model\\_logistic.py:460: ConvergenceWarning: lbfgs failed to converge (status=1):\n",
      "STOP: TOTAL NO. of ITERATIONS REACHED LIMIT.\n",
      "\n",
      "Increase the number of iterations (max_iter) or scale the data as shown in:\n",
      "    https://scikit-learn.org/stable/modules/preprocessing.html\n",
      "Please also refer to the documentation for alternative solver options:\n",
      "    https://scikit-learn.org/stable/modules/linear_model.html#logistic-regression\n",
      "  n_iter_i = _check_optimize_result(\n"
     ]
    }
   ],
   "source": [
    "# Train a logistic regression model\n",
    "lr = LogisticRegression()\n",
    "lr.fit(x_train, y_train)\n",
    "y_lr_pred = lr.predict(x_test)\n",
    "print(classification_report(y_test, y_lr_pred))\n",
    "print(confusion_matrix(y_test, y_lr_pred))"
   ]
  },
  {
   "cell_type": "code",
   "execution_count": 15,
   "metadata": {},
   "outputs": [
    {
     "name": "stdout",
     "output_type": "stream",
     "text": [
      "              precision    recall  f1-score   support\n",
      "\n",
      "           0       0.96      0.94      0.95       250\n",
      "           1       0.98      1.00      0.99       239\n",
      "           2       0.92      1.00      0.96       256\n",
      "           3       1.00      0.88      0.93       257\n",
      "           4       0.96      1.00      0.98       258\n",
      "\n",
      "    accuracy                           0.96      1260\n",
      "   macro avg       0.96      0.96      0.96      1260\n",
      "weighted avg       0.96      0.96      0.96      1260\n",
      "\n",
      "[[235   5  10   0   0]\n",
      " [  0 239   0   0   0]\n",
      " [  0   0 256   0   0]\n",
      " [ 10   0  12 225  10]\n",
      " [  0   0   0   0 258]]\n"
     ]
    }
   ],
   "source": [
    "# Train a K-nearest neighbors model\n",
    "knc = KNeighborsClassifier(n_neighbors=7)\n",
    "knc.fit(x_train, y_train)\n",
    "y_knc_pred = knc.predict(x_test)\n",
    "print(classification_report(y_test, y_knc_pred))\n",
    "print(confusion_matrix(y_test, y_knc_pred))"
   ]
  },
  {
   "cell_type": "code",
   "execution_count": 16,
   "metadata": {},
   "outputs": [
    {
     "name": "stdout",
     "output_type": "stream",
     "text": [
      "              precision    recall  f1-score   support\n",
      "\n",
      "           0       0.99      1.00      0.99       250\n",
      "           1       1.00      1.00      1.00       239\n",
      "           2       1.00      1.00      1.00       256\n",
      "           3       1.00      0.98      0.99       257\n",
      "           4       0.99      1.00      0.99       258\n",
      "\n",
      "    accuracy                           1.00      1260\n",
      "   macro avg       1.00      1.00      1.00      1260\n",
      "weighted avg       1.00      1.00      1.00      1260\n",
      "\n",
      "[[250   0   0   0   0]\n",
      " [  0 239   0   0   0]\n",
      " [  0   0 256   0   0]\n",
      " [  3   0   0 251   3]\n",
      " [  0   0   0   0 258]]\n"
     ]
    }
   ],
   "source": [
    "# Training random forest model\n",
    "rfc = RandomForestClassifier()\n",
    "rfc.fit(x_train, y_train)\n",
    "y_rfc_pred = rfc.predict(x_test)\n",
    "print(classification_report(y_test, y_rfc_pred))\n",
    "print(confusion_matrix(y_test, y_rfc_pred))"
   ]
  },
  {
   "cell_type": "code",
   "execution_count": 17,
   "metadata": {},
   "outputs": [
    {
     "data": {
      "text/plain": [
       "['rfc_model.joblib']"
      ]
     },
     "execution_count": 17,
     "metadata": {},
     "output_type": "execute_result"
    }
   ],
   "source": [
    "# Saving my model\n",
    "import joblib\n",
    "joblib.dump(rfc, 'rfc_model.joblib')\n",
    "\n"
   ]
  },
  {
   "cell_type": "code",
   "execution_count": 18,
   "metadata": {},
   "outputs": [],
   "source": [
    "# saving it in a file\n",
    "rfc_loaded = joblib.load('rfc_model.joblib')"
   ]
  },
  {
   "cell_type": "code",
   "execution_count": 19,
   "metadata": {},
   "outputs": [],
   "source": [
    "error_rate=[]\n",
    "for i in range(1, 100):\n",
    "    rfc = RandomForestClassifier(n_estimators=i)\n",
    "    rfc.fit(x_test, y_test)\n",
    "    pred_i = rfc.predict(x_test)\n",
    "    error_rate.append(np.mean(pred_i != y_test))"
   ]
  },
  {
   "cell_type": "code",
   "execution_count": 20,
   "metadata": {},
   "outputs": [
    {
     "data": {
      "text/plain": [
       "Text(0, 0.5, 'error_rate')"
      ]
     },
     "execution_count": 20,
     "metadata": {},
     "output_type": "execute_result"
    },
    {
     "data": {
      "image/png": "[encoded data removed]",
      "text/plain": [
       "<Figure size 1000x800 with 1 Axes>"
      ]
     },
     "metadata": {},
     "output_type": "display_data"
    }
   ],
   "source": [
    "plt.figure(figsize=(10,8))\n",
    "plt.plot(range(1, 100), error_rate, marker='o', markersize=8, markerfacecolor='red', color='blue', linestyle='dashed')\n",
    "plt.xlabel('n_estimator')\n",
    "plt.ylabel('error_rate')"
   ]
  },
  {
   "cell_type": "code",
   "execution_count": 21,
   "metadata": {},
   "outputs": [
    {
     "name": "stdout",
     "output_type": "stream",
     "text": [
      "              precision    recall  f1-score   support\n",
      "\n",
      "           0       0.99      1.00      1.00       250\n",
      "           1       1.00      1.00      1.00       239\n",
      "           2       1.00      1.00      1.00       256\n",
      "           3       1.00      0.96      0.98       257\n",
      "           4       0.97      1.00      0.99       258\n",
      "\n",
      "    accuracy                           0.99      1260\n",
      "   macro avg       0.99      0.99      0.99      1260\n",
      "weighted avg       0.99      0.99      0.99      1260\n",
      "\n"
     ]
    }
   ],
   "source": [
    "# Train a decision tree model\n",
    "dtc = DecisionTreeClassifier()\n",
    "dtc.fit(x_train, y_train)\n",
    "y_dtc_pred = dtc.predict(x_test)\n",
    "print(classification_report(y_test, y_dtc_pred))"
   ]
  },
  {
   "cell_type": "code",
   "execution_count": 22,
   "metadata": {},
   "outputs": [
    {
     "name": "stdout",
     "output_type": "stream",
     "text": [
      "              precision    recall  f1-score   support\n",
      "\n",
      "           0       0.97      1.00      0.98       250\n",
      "           1       1.00      1.00      1.00       239\n",
      "           2       0.96      1.00      0.98       256\n",
      "           3       1.00      0.87      0.93       257\n",
      "           4       0.95      1.00      0.98       258\n",
      "\n",
      "    accuracy                           0.97      1260\n",
      "   macro avg       0.97      0.97      0.97      1260\n",
      "weighted avg       0.97      0.97      0.97      1260\n",
      "\n"
     ]
    }
   ],
   "source": [
    "# Train a support vector machine model\n",
    "classifier = svm.SVC(kernel='linear', gamma='auto', C=2)\n",
    "classifier.fit(x_train, y_train)\n",
    "y_svm_pred = classifier.predict(x_test)\n",
    "print(classification_report(y_test, y_svm_pred))"
   ]
  },
  {
   "cell_type": "code",
   "execution_count": 23,
   "metadata": {},
   "outputs": [],
   "source": [
    "# Save the trained model\n",
    "pickle.dump(classifier, open('peace_modelD.pkl', 'wb'))\n"
   ]
  },
  {
   "cell_type": "code",
   "execution_count": 24,
   "metadata": {},
   "outputs": [],
   "source": [
    "# Load the saved model\n",
    "file = pickle.load(open('peace_modelD.pkl', 'rb'))\n"
   ]
  },
  {
   "cell_type": "code",
   "execution_count": 25,
   "metadata": {},
   "outputs": [
    {
     "name": "stdout",
     "output_type": "stream",
     "text": [
      "[0]\n"
     ]
    }
   ],
   "source": [
    "# Make a prediction\n",
    "input_data = (17975, 50, 4.7, 46, 4.9, 4.2, 0.9, 2.4, 1.4, 0.5, 24.0, 0)\n",
    "input_data_as_numpy_array = np.asarray(input_data)\n",
    "input_data_reshaped = input_data_as_numpy_array.reshape(1, -1)\n",
    "prediction = file.predict(input_data_reshaped)\n",
    "print(prediction)\n"
   ]
  },
  {
   "cell_type": "code",
   "execution_count": 26,
   "metadata": {},
   "outputs": [
    {
     "name": "stdout",
     "output_type": "stream",
     "text": [
      "The person is not diabetes\n"
     ]
    }
   ],
   "source": [
    "if prediction == 0:\n",
    "    print('The person is not diabetes')\n",
    "elif prediction == 1:\n",
    "    print('The person is diabetes')\n",
    "elif prediction == 2:\n",
    "    print('Predicted diabetes')\n",
    "else:\n",
    "    print('Mixed prediction')"
   ]
  },
  {
   "cell_type": "code",
   "execution_count": 27,
   "metadata": {},
   "outputs": [],
   "source": [
    "import matplotlib.pyplot as plt\n",
    "from sklearn.model_selection import learning_curve, validation_curve\n",
    "import numpy as np"
   ]
  },
  {
   "cell_type": "code",
   "execution_count": 28,
   "metadata": {},
   "outputs": [
    {
     "data": {
      "text/plain": [
       "Text(0.5, 1.0, 'Learning Curve')"
      ]
     },
     "execution_count": 28,
     "metadata": {},
     "output_type": "execute_result"
    },
    {
     "data": {
      "image/png": "[encoded data removed]",
      "text/plain": [
       "<Figure size 800x600 with 1 Axes>"
      ]
     },
     "metadata": {},
     "output_type": "display_data"
    }
   ],
   "source": [
    "# Learning Curve\n",
    "train_sizes, train_scores, test_scores = learning_curve(\n",
    "    dtc, x_train, y_train, cv=5, scoring='accuracy', n_jobs=-1\n",
    ")\n",
    "\n",
    "train_mean = np.mean(train_scores, axis=1)\n",
    "train_std = np.std(train_scores, axis=1)\n",
    "test_mean = np.mean(test_scores, axis=1)\n",
    "test_std = np.std(test_scores, axis=1)\n",
    "\n",
    "plt.figure(figsize=(8, 6))\n",
    "plt.plot(train_sizes, train_mean, label='Training Accuracy')\n",
    "plt.fill_between(train_sizes, train_mean - train_std, train_mean + train_std, alpha=0.2)\n",
    "plt.plot(train_sizes, test_mean, label='Validation Accuracy')\n",
    "plt.fill_between(train_sizes, test_mean - test_std, test_mean + test_std, alpha=0.2)\n",
    "plt.title('Learning Curve')"
   ]
  },
  {
   "cell_type": "code",
   "execution_count": 29,
   "metadata": {},
   "outputs": [
    {
     "data": {
      "image/png": "[encoded data removed]",
      "text/plain": [
       "<Figure size 600x600 with 1 Axes>"
      ]
     },
     "metadata": {},
     "output_type": "display_data"
    }
   ],
   "source": [
    "# Loss Curve\n",
    "plt.figure(figsize=(6, 6))\n",
    "plt.plot(train_sizes, 1 - train_mean, label='Training Loss')\n",
    "plt.fill_between(train_sizes, 1 - train_mean + train_std, 1 - train_mean - train_std, alpha=0.2)\n",
    "plt.plot(train_sizes, 1 - test_mean, label='Validation Loss')\n",
    "plt.fill_between(train_sizes, 1 - test_mean + test_std, 1 - test_mean - test_std, alpha=0.2)\n",
    "plt.title('Loss Curve')\n",
    "plt.xlabel('Training Set Size')\n",
    "plt.ylabel('Loss (1 - Accuracy)')\n",
    "plt.legend()\n",
    "plt.show()"
   ]
  },
  {
   "cell_type": "code",
   "execution_count": 30,
   "metadata": {},
   "outputs": [
    {
     "data": {
      "text/plain": [
       "'1.33.0'"
      ]
     },
     "execution_count": 30,
     "metadata": {},
     "output_type": "execute_result"
    }
   ],
   "source": [
    "import streamlit\n",
    "streamlit.__version__"
   ]
  },
  {
   "cell_type": "code",
   "execution_count": 31,
   "metadata": {},
   "outputs": [
    {
     "name": "stdout",
     "output_type": "stream",
     "text": [
      "1.4.2\n"
     ]
    }
   ],
   "source": [
    "import joblib\n",
    "print(joblib.__version__)"
   ]
  },
  {
   "cell_type": "code",
   "execution_count": 32,
   "metadata": {},
   "outputs": [
    {
     "data": {
      "text/plain": [
       "'1.23.5'"
      ]
     },
     "execution_count": 32,
     "metadata": {},
     "output_type": "execute_result"
    }
   ],
   "source": [
    "import numpy\n",
    "numpy.__version__"
   ]
  },
  {
   "cell_type": "code",
   "execution_count": 33,
   "metadata": {},
   "outputs": [
    {
     "name": "stdout",
     "output_type": "stream",
     "text": [
      "\n",
      "System:\n",
      "    python: 3.8.18 (default, Sep 11 2023, 13:39:12) [MSC v.1916 64 bit (AMD64)]\n",
      "executable: c:\\Users\\HP\\.conda\\envs\\myenv\\python.exe\n",
      "   machine: Windows-10-10.0.19045-SP0\n",
      "\n",
      "Python dependencies:\n",
      "      sklearn: 1.3.2\n",
      "          pip: 23.3.1\n",
      "   setuptools: 68.2.2\n",
      "        numpy: 1.23.5\n",
      "        scipy: 1.10.1\n",
      "       Cython: None\n",
      "       pandas: 2.0.3\n",
      "   matplotlib: 3.7.5\n",
      "       joblib: 1.4.2\n",
      "threadpoolctl: 3.5.0\n",
      "\n",
      "Built with OpenMP: True\n",
      "\n",
      "threadpoolctl info:\n",
      "       user_api: openmp\n",
      "   internal_api: openmp\n",
      "    num_threads: 4\n",
      "         prefix: vcomp\n",
      "       filepath: C:\\Users\\HP\\.conda\\envs\\myenv\\Lib\\site-packages\\sklearn\\.libs\\vcomp140.dll\n",
      "        version: None\n",
      "\n",
      "       user_api: blas\n",
      "   internal_api: openblas\n",
      "    num_threads: 4\n",
      "         prefix: libopenblas\n",
      "       filepath: C:\\Users\\HP\\.conda\\envs\\myenv\\Lib\\site-packages\\numpy\\.libs\\libopenblas.FB5AE2TYXYH2IJRDKGDGQ3XBKLKTF43H.gfortran-win_amd64.dll\n",
      "        version: 0.3.20\n",
      "threading_layer: pthreads\n",
      "   architecture: Haswell\n",
      "\n",
      "       user_api: blas\n",
      "   internal_api: openblas\n",
      "    num_threads: 4\n",
      "         prefix: libopenblas\n",
      "       filepath: C:\\Users\\HP\\.conda\\envs\\myenv\\Lib\\site-packages\\scipy.libs\\libopenblas-802f9ed1179cb9c9b03d67ff79f48187.dll\n",
      "        version: 0.3.18\n",
      "threading_layer: pthreads\n",
      "   architecture: Haswell\n"
     ]
    }
   ],
   "source": [
    "import sklearn\n",
    "sklearn.show_versions()\n"
   ]
  },
  {
   "cell_type": "code",
   "execution_count": 34,
   "metadata": {},
   "outputs": [
    {
     "data": {
      "text/plain": [
       "'2.0.3'"
      ]
     },
     "execution_count": 34,
     "metadata": {},
     "output_type": "execute_result"
    }
   ],
   "source": [
    "import pandas\n",
    "pandas.__version__"
   ]
  },
  {
   "cell_type": "code",
   "execution_count": 35,
   "metadata": {},
   "outputs": [
    {
     "data": {
      "text/plain": [
       "'3.7.5'"
      ]
     },
     "execution_count": 35,
     "metadata": {},
     "output_type": "execute_result"
    }
   ],
   "source": [
    "import matplotlib\n",
    "matplotlib.__version__"
   ]
  },
  {
   "cell_type": "markdown",
   "metadata": {},
   "source": [
    "import seaborn\n",
    "seaborn.__version__\n"
   ]
  },
  {
   "cell_type": "code",
   "execution_count": 36,
   "metadata": {},
   "outputs": [
    {
     "data": {
      "text/plain": [
       "'0.12.3'"
      ]
     },
     "execution_count": 36,
     "metadata": {},
     "output_type": "execute_result"
    }
   ],
   "source": [
    "import imblearn\n",
    "\n",
    "imblearn.__version__"
   ]
  },
  {
   "cell_type": "code",
   "execution_count": 37,
   "metadata": {},
   "outputs": [
    {
     "data": {
      "text/plain": [
       "'1.10.1'"
      ]
     },
     "execution_count": 37,
     "metadata": {},
     "output_type": "execute_result"
    }
   ],
   "source": [
    "import scipy\n",
    "scipy.__version__"
   ]
  },
  {
   "cell_type": "code",
   "execution_count": 38,
   "metadata": {},
   "outputs": [
    {
     "name": "stderr",
     "output_type": "stream",
     "text": [
      "C:\\Users\\HP\\AppData\\Local\\Temp\\ipykernel_27128\\201779753.py:1: DeprecationWarning: pkg_resources is deprecated as an API. See https://setuptools.pypa.io/en/latest/pkg_resources.html\n",
      "  import pkg_resources\n"
     ]
    },
    {
     "name": "stdout",
     "output_type": "stream",
     "text": [
      "Scikit-learn version: 1.3.2\n",
      "Python version: 3.8.18 (default, Sep 11 2023, 13:39:12) [MSC v.1916 64 bit (AMD64)]\n"
     ]
    }
   ],
   "source": [
    "import pkg_resources\n",
    "\n",
    "# Check scikit-learn version\n",
    "print(\"Scikit-learn version:\", sklearn.__version__)\n",
    "import sys\n",
    "\n",
    "print(\"Python version:\", sys.version)\n",
    "\n",
    "\n"
   ]
  },
  {
   "cell_type": "code",
   "execution_count": 39,
   "metadata": {},
   "outputs": [],
   "source": [
    "import matplotlib.pyplot\n"
   ]
  },
  {
   "cell_type": "code",
   "execution_count": 40,
   "metadata": {},
   "outputs": [],
   "source": [
    "import pandas"
   ]
  },
  {
   "cell_type": "code",
   "execution_count": 41,
   "metadata": {},
   "outputs": [],
   "source": [
    "import numpy"
   ]
  },
  {
   "cell_type": "code",
   "execution_count": 42,
   "metadata": {},
   "outputs": [],
   "source": [
    "import seaborn"
   ]
  },
  {
   "cell_type": "code",
   "execution_count": 43,
   "metadata": {},
   "outputs": [],
   "source": [
    "import pickle"
   ]
  },
  {
   "cell_type": "code",
   "execution_count": 44,
   "metadata": {},
   "outputs": [],
   "source": [
    "import joblib"
   ]
  },
  {
   "cell_type": "code",
   "execution_count": 45,
   "metadata": {},
   "outputs": [],
   "source": [
    "import imblearn"
   ]
  },
  {
   "cell_type": "code",
   "execution_count": 46,
   "metadata": {},
   "outputs": [],
   "source": [
    "import matplotlib.pyplot"
   ]
  },
  {
   "cell_type": "code",
   "execution_count": null,
   "metadata": {},
   "outputs": [],
   "source": []
  }
 ],
 "metadata": {
  "kernelspec": {
   "display_name": "myenv",
   "language": "python",
   "name": "python3"
  },
  "language_info": {
   "codemirror_mode": {
    "name": "ipython",
    "version": 3
   },
   "file_extension": ".py",
   "mimetype": "text/x-python",
   "name": "python",
   "nbconvert_exporter": "python",
   "pygments_lexer": "ipython3",
   "version": "3.8.18"
  }
 },
 "nbformat": 4,
 "nbformat_minor": 2
}
